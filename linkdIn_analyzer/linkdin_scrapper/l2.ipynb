{
 "cells": [
  {
   "cell_type": "markdown",
   "id": "626bda21",
   "metadata": {},
   "source": [
    "# LinkdIn Jobs Scrapper"
   ]
  },
  {
   "cell_type": "markdown",
   "id": "cdd45793",
   "metadata": {},
   "source": [
    "## Imports"
   ]
  },
  {
   "cell_type": "code",
   "execution_count": 1,
   "id": "ebdae3ac",
   "metadata": {},
   "outputs": [],
   "source": [
    "from selenium import webdriver\n",
    "import time\n",
    "import pandas as pd\n",
    "import os\n",
    "\n",
    "from selenium.webdriver.support.select import Select\n",
    "from selenium.webdriver.support.ui import WebDriverWait\n",
    "from selenium.webdriver.common.by import By\n",
    "from selenium.webdriver.support import expected_conditions as EC\n",
    "\n",
    "import re\n",
    "from bs4 import BeautifulSoup\n",
    "\n",
    "import numpy as np"
   ]
  },
  {
   "cell_type": "code",
   "execution_count": 2,
   "id": "5cfd069b",
   "metadata": {},
   "outputs": [],
   "source": [
    "linkdInJobsUrl = \"https://www.linkedin.com/jobs/search?keywords=Microsoft%20Power%20Platform&location=India&geoId=102713980&trk=public_jobs_jobs-search-bar_search-submit&position=1&pageNum=0\""
   ]
  },
  {
   "cell_type": "markdown",
   "id": "0dda729a",
   "metadata": {},
   "source": [
    "## WebDriver"
   ]
  },
  {
   "cell_type": "code",
   "execution_count": 3,
   "id": "edd22eec",
   "metadata": {},
   "outputs": [
    {
     "name": "stderr",
     "output_type": "stream",
     "text": [
      "C:\\Users\\vibhu\\AppData\\Local\\Temp\\ipykernel_31348\\84967656.py:2: DeprecationWarning: executable_path has been deprecated, please pass in a Service object\n",
      "  driver1 = webdriver.Chrome(executable_path=r'\".\\\\chromedriver.exe\"')\n",
      "Incompatible release of chromedriver (version 114.0.5735.16) detected in PATH: D:\\Coding\\projectsForResume\\PowerBI\\linkdIn_analyzer\\linkdin_scrapper\\chromedriver.exe\n"
     ]
    }
   ],
   "source": [
    "#Creating driver instance\n",
    "driver1 = webdriver.Chrome(executable_path=r'\".\\\\chromedriver.exe\"')\n",
    "\n",
    "#fetching the data\n",
    "driver1.get(linkdInJobsUrl)\n",
    "driver1.implicitly_wait(15)"
   ]
  },
  {
   "cell_type": "markdown",
   "id": "328157c5",
   "metadata": {},
   "source": [
    "### Finding the total results"
   ]
  },
  {
   "cell_type": "code",
   "execution_count": 4,
   "id": "38ec8dd0",
   "metadata": {},
   "outputs": [],
   "source": [
    "jobResultCountObj = driver1.find_element(By.CLASS_NAME,'results-context-header__job-count')\n",
    "jobResultCountHtml = jobResultCountObj.get_attribute(\"outerHTML\")"
   ]
  },
  {
   "cell_type": "code",
   "execution_count": 5,
   "id": "d1d05a54",
   "metadata": {},
   "outputs": [
    {
     "data": {
      "text/plain": [
       "'<span class=\"results-context-header__job-count\">1,000+</span>'"
      ]
     },
     "execution_count": 5,
     "metadata": {},
     "output_type": "execute_result"
    }
   ],
   "source": [
    "jobResultCountHtml"
   ]
  },
  {
   "cell_type": "code",
   "execution_count": 6,
   "id": "471a9b59",
   "metadata": {},
   "outputs": [],
   "source": [
    "soup1 = BeautifulSoup(jobResultCountHtml,\"html.parser\")"
   ]
  },
  {
   "cell_type": "code",
   "execution_count": 7,
   "id": "a4b8d297",
   "metadata": {},
   "outputs": [
    {
     "data": {
      "text/plain": [
       "'1,000+'"
      ]
     },
     "execution_count": 7,
     "metadata": {},
     "output_type": "execute_result"
    }
   ],
   "source": [
    "soup1.text"
   ]
  },
  {
   "cell_type": "code",
   "execution_count": 8,
   "id": "3e38cb14",
   "metadata": {},
   "outputs": [],
   "source": [
    "jobResultCountText = \"\"\n",
    "for i in soup1.text:\n",
    "    if i >= '0' and i <= '9' :\n",
    "        jobResultCountText += i\n",
    "\n",
    "jobResultCount = pd.to_numeric(jobResultCountText)"
   ]
  },
  {
   "cell_type": "code",
   "execution_count": 9,
   "id": "7a680abe",
   "metadata": {},
   "outputs": [
    {
     "data": {
      "text/plain": [
       "1000"
      ]
     },
     "execution_count": 9,
     "metadata": {},
     "output_type": "execute_result"
    }
   ],
   "source": [
    "jobResultCount"
   ]
  },
  {
   "cell_type": "markdown",
   "id": "a818b653",
   "metadata": {},
   "source": [
    "### Calculating the loops needed\n",
    "#### Assumption : 20 items are being loaded in single scroll"
   ]
  },
  {
   "cell_type": "code",
   "execution_count": 10,
   "id": "210a3553",
   "metadata": {},
   "outputs": [],
   "source": [
    "loops = 200"
   ]
  },
  {
   "cell_type": "markdown",
   "id": "9fd21f6d",
   "metadata": {},
   "source": [
    "## Making sure that driver keeps scrolling to the bottom of the page and loads new stuff"
   ]
  },
  {
   "cell_type": "code",
   "execution_count": null,
   "id": "b3f97d7e",
   "metadata": {},
   "outputs": [],
   "source": [
    "i=1\n",
    "while i<=loops:\n",
    "    #Scroll to bottom\n",
    "    driver1.execute_script(\"window.scrollTo(0, document.body.scrollHeight);\")\n",
    "    i+=1\n",
    "    \n",
    "    try:\n",
    "        #Press See More Jobs button when encountered\n",
    "        x=driver1.find_element(By.XPATH,\"//button[@aria-label='See more jobs']\")\n",
    "        driver1.execute_script(\"arguments[0].click();\",x)\n",
    "        time.sleep(5)\n",
    "    except:\n",
    "        pass\n",
    "        time.sleep(4)"
   ]
  },
  {
   "cell_type": "markdown",
   "id": "7435a358",
   "metadata": {},
   "source": [
    "## Storing the loaded HTML into a component"
   ]
  },
  {
   "cell_type": "code",
   "execution_count": null,
   "id": "0e09f117",
   "metadata": {},
   "outputs": [],
   "source": [
    "loadedDataObj = driver1.find_element(By.TAG_NAME,\"body\")"
   ]
  },
  {
   "cell_type": "code",
   "execution_count": null,
   "id": "c1847ff0",
   "metadata": {},
   "outputs": [],
   "source": [
    "loadedDataHTML = loadedDataObj.get_attribute(\"outerHTML\")"
   ]
  },
  {
   "cell_type": "code",
   "execution_count": null,
   "id": "62ac55e8",
   "metadata": {},
   "outputs": [],
   "source": [
    "loadedDataHTML"
   ]
  },
  {
   "cell_type": "markdown",
   "id": "f47c7f4d",
   "metadata": {},
   "source": [
    "## Using BeautifulSoup to parse the html"
   ]
  },
  {
   "cell_type": "code",
   "execution_count": null,
   "id": "21e928bc",
   "metadata": {},
   "outputs": [],
   "source": [
    "soupMain = BeautifulSoup(loadedDataHTML,\"html.parser\")"
   ]
  },
  {
   "cell_type": "markdown",
   "id": "0ff28b5d",
   "metadata": {},
   "source": [
    "## Scooping the information into arrays"
   ]
  },
  {
   "cell_type": "code",
   "execution_count": null,
   "id": "48bd9a75",
   "metadata": {},
   "outputs": [],
   "source": [
    "companyNames = []\n",
    "jobTitles = []\n",
    "companyLocations = []\n",
    "linkToJobPostings = []\n"
   ]
  },
  {
   "cell_type": "code",
   "execution_count": null,
   "id": "f10972a5",
   "metadata": {},
   "outputs": [],
   "source": [
    "companyNamesHTML = soupMain.find_all(\"a\",class_=\"hidden-nested-link\")\n",
    "jobTitlesHTML = soupMain.find_all(\"h3\",class_=\"base-search-card__title\")\n",
    "companyLocationsHTML = soupMain.find_all(\"span\",class_=\"job-search-card__location\")\n",
    "linkToJobPostingsHTML = soupMain.find_all(\"a\",class_=\"hidden-nested-link\",href=True)"
   ]
  },
  {
   "cell_type": "code",
   "execution_count": null,
   "id": "6ba0290b",
   "metadata": {},
   "outputs": [],
   "source": [
    "n = len(companyNamesHTML)\n",
    "for i in range(0,n) :\n",
    "    companyNames.append(companyNamesHTML[i].text)\n",
    "    jobTitles.append(jobTitlesHTML[i].text)\n",
    "    companyLocations.append(companyLocationsHTML[i].text)\n",
    "    linkToJobPostings.append(linkToJobPostingsHTML[i][\"href\"])"
   ]
  },
  {
   "cell_type": "code",
   "execution_count": null,
   "id": "ab48a3f9",
   "metadata": {},
   "outputs": [],
   "source": [
    "companyNames,jobTitles,companyLocations,linkToJobPostings"
   ]
  },
  {
   "cell_type": "markdown",
   "id": "0144169d",
   "metadata": {},
   "source": [
    "## Extracting more informations"
   ]
  },
  {
   "cell_type": "code",
   "execution_count": null,
   "id": "9d7bd605",
   "metadata": {},
   "outputs": [],
   "source": [
    "jobDescriptions = []\n",
    "timePosted = []\n",
    "relativeTime = []\n",
    "jobId = []\n",
    "employementDetails=[]"
   ]
  },
  {
   "cell_type": "code",
   "execution_count": null,
   "id": "9be79dea",
   "metadata": {},
   "outputs": [],
   "source": [
    "jobListsElements = driver1.find_elements(By.XPATH,\"//a[@data-tracking-control-name='public_jobs_jserp-result_search-card']\")"
   ]
  },
  {
   "cell_type": "code",
   "execution_count": null,
   "id": "d3bd081d",
   "metadata": {},
   "outputs": [],
   "source": [
    "n = len(jobListsElements)\n",
    "driver2 = webdriver.Chrome(executable_path=r'\".\\\\chromedriver.exe\"')\n",
    "for i in range(0,n) :\n",
    "    pos=\"\"\n",
    "    pageNum=\"\"\n",
    "    currentJobId=\"\"\n",
    "\n",
    "    currElement = jobListsElements[i].get_attribute(\"outerHTML\")\n",
    "    s2 = BeautifulSoup(currElement,\"html.parser\")\n",
    "    link = s2.find(\"a\",href=True)\n",
    "    \n",
    "    \n",
    "    #calculate jobid\n",
    "    t1=link[\"href\"].find(\"?refId\")\n",
    "    s = link[\"href\"][:t1]\n",
    "    k=s.split(\"-\")\n",
    "    currentJobId=k[len(k)-1]\n",
    "    \n",
    "    #for pageNum\n",
    "    t2 = link[\"href\"].find(\"&trk\")\n",
    "    s2=link[\"href\"][:t2]\n",
    "    k2 = s2.split('=')\n",
    "    pageNum=k2[len(k2)-1]\n",
    "    \n",
    "    #position\n",
    "    t3=link[\"href\"].find(\"&pageNum\")\n",
    "    s3=link[\"href\"][:t3]\n",
    "    k3=s3.split(\"=\")\n",
    "    pos=k3[len(k3)-1]\n",
    "    \n",
    "    lindInNewUrl = \"https://www.linkedin.com/jobs/search?keywords=Business%2BIntelligence%2B%28BI%29&location=United%2BStates&geoId=103644278&trk=public_jobs_jobs-search-bar_search-submit&currentJobId=\"+currentJobId+\"&position=\"+pos+\"&pageNum=\"+pageNum\n",
    "    driver2.get(lindInNewUrl)\n",
    "    time.sleep(5)\n",
    "    \n",
    "    bodyElementObj = driver2.find_element(By.TAG_NAME,\"body\")\n",
    "    bodyElementHTML = bodyElementObj.get_attribute(\"outerHTML\")\n",
    "    soupDetails = BeautifulSoup(bodyElementHTML,\"html.parser\")\n",
    "    \n",
    "    \n",
    "    \n",
    "    check = soupDetails.find(\"h2\",class_=\"top-card-layout__title font-sans text-lg papabear:text-xl font-bold leading-open text-color-text mb-0 topcard__title\")\n",
    "    if check == None :\n",
    "        driver2.get(lindInNewUrl)\n",
    "        time.sleep(5)\n",
    "    \n",
    "        bodyElementObj = driver2.find_element(By.TAG_NAME,\"body\")\n",
    "        bodyElementHTML = bodyElementObj.get_attribute(\"outerHTML\")\n",
    "        soupDetails = BeautifulSoup(bodyElementHTML,\"html.parser\")\n",
    "    \n",
    "    jobId.append(currentJobId)\n",
    "\n",
    "    jobDescription = soupDetails.find(\"div\",class_=\"show-more-less-html__markup\")\n",
    "    jobDescriptions.append(jobDescription)\n",
    "\n",
    "    employementTypeList = soupDetails.find_all(\"span\",class_=\"description__job-criteria-text description__job-criteria-text--criteria\")\n",
    "    employementDetails.append(employementTypeList)\n",
    "\n",
    "    relativeTimeHTML1 = soupDetails.find(\"span\",class_=\"posted-time-ago__text topcard__flavor--metadata\")\n",
    "    relativeTimeHTML2 = soupDetails.find(\"span\",class_=\"posted-time-ago__text posted-time-ago__text--new topcard__flavor--metadata\")\n",
    "    if relativeTimeHTML1 == None :\n",
    "        relativeTime.append(relativeTimeHTML2.text)\n",
    "    else:\n",
    "        relativeTime.append(relativeTimeHTML1.text)\n"
   ]
  },
  {
   "cell_type": "code",
   "execution_count": null,
   "id": "47e3f401",
   "metadata": {},
   "outputs": [],
   "source": [
    "m=len(companyNames)"
   ]
  },
  {
   "cell_type": "code",
   "execution_count": null,
   "id": "ae9913d3",
   "metadata": {},
   "outputs": [],
   "source": [
    "jobDescriptions=jobDescriptions[:m]"
   ]
  },
  {
   "cell_type": "code",
   "execution_count": null,
   "id": "7b7ae39d",
   "metadata": {},
   "outputs": [],
   "source": [
    "employementDetails=employementDetails[:m]"
   ]
  },
  {
   "cell_type": "code",
   "execution_count": null,
   "id": "015c2d00",
   "metadata": {},
   "outputs": [],
   "source": [
    "relativeTime=relativeTime[:m]"
   ]
  },
  {
   "cell_type": "markdown",
   "id": "ed3fc93a",
   "metadata": {},
   "source": [
    "## Creating a DataFrame"
   ]
  },
  {
   "cell_type": "code",
   "execution_count": null,
   "id": "8ea0b618",
   "metadata": {},
   "outputs": [],
   "source": [
    "df = pd.DataFrame()"
   ]
  },
  {
   "cell_type": "code",
   "execution_count": null,
   "id": "1e5cee7f",
   "metadata": {},
   "outputs": [],
   "source": [
    "df['CompanyNames'] = companyNames"
   ]
  },
  {
   "cell_type": "code",
   "execution_count": null,
   "id": "d480f1a2",
   "metadata": {},
   "outputs": [],
   "source": [
    "df['JobTitles'] = jobTitles"
   ]
  },
  {
   "cell_type": "code",
   "execution_count": null,
   "id": "3cef6802",
   "metadata": {},
   "outputs": [],
   "source": [
    "df['CompanyLocation'] = companyLocations"
   ]
  },
  {
   "cell_type": "code",
   "execution_count": null,
   "id": "43dd6480",
   "metadata": {},
   "outputs": [],
   "source": [
    "df['LinkToJobPostings'] = linkToJobPostings"
   ]
  },
  {
   "cell_type": "code",
   "execution_count": null,
   "id": "0618f9cd",
   "metadata": {},
   "outputs": [],
   "source": [
    "df['JobDescriptions'] = jobDescriptions"
   ]
  },
  {
   "cell_type": "code",
   "execution_count": null,
   "id": "37afe721",
   "metadata": {},
   "outputs": [],
   "source": [
    "employementDetails[7]"
   ]
  },
  {
   "cell_type": "code",
   "execution_count": null,
   "id": "acf327cf",
   "metadata": {},
   "outputs": [],
   "source": [
    "seniorityLevel=[]\n",
    "employementType=[]\n",
    "jobFunctions=[]\n",
    "industries=[]\n",
    "\n",
    "for i in range(0,len(employementDetails)):\n",
    "    if len(employementDetails[i]) == 4:\n",
    "        sp0 = BeautifulSoup(str(employementDetails[i][0]),\"html.parser\")\n",
    "        sp1 = BeautifulSoup(str(employementDetails[i][1]),\"html.parser\")\n",
    "        sp2 = BeautifulSoup(str(employementDetails[i][2]),\"html.parser\")\n",
    "        sp3 = BeautifulSoup(str(employementDetails[i][3]),\"html.parser\")\n",
    "        t0 = sp0.text\n",
    "        t1 = sp1.text\n",
    "        t2 = sp2.text\n",
    "        t3 = sp3.text\n",
    "        seniorityLevel.append(t0)\n",
    "        employementType.append(t1)\n",
    "        jobFunctions.append(t2)\n",
    "        industries.append(t3)\n",
    "    else :\n",
    "        seniorityLevel.append(\"Scrapping Missed\")\n",
    "        employementType.append(\"Scrapping Missed\")\n",
    "        jobFunctions.append(\"Scrapping Missed\")\n",
    "        industries.append(\"Scrapping Missed\")"
   ]
  },
  {
   "cell_type": "code",
   "execution_count": null,
   "id": "5e0a7e16",
   "metadata": {},
   "outputs": [],
   "source": [
    "len(seniorityLevel)"
   ]
  },
  {
   "cell_type": "code",
   "execution_count": null,
   "id": "6c89dd9d",
   "metadata": {},
   "outputs": [],
   "source": [
    "df['SeniorityLevel'] = seniorityLevel\n",
    "df['EmployementType'] = employementType\n",
    "df['JobFunctions'] = jobFunctions\n",
    "df['Industries'] = industries"
   ]
  },
  {
   "cell_type": "code",
   "execution_count": null,
   "id": "28039b55",
   "metadata": {},
   "outputs": [],
   "source": [
    "df['RelativeTime'] = relativeTime"
   ]
  },
  {
   "cell_type": "code",
   "execution_count": null,
   "id": "e87c4bc3",
   "metadata": {},
   "outputs": [],
   "source": [
    "df['RelativeTime']"
   ]
  },
  {
   "cell_type": "code",
   "execution_count": null,
   "id": "2de8518a",
   "metadata": {},
   "outputs": [],
   "source": [
    "df"
   ]
  },
  {
   "cell_type": "markdown",
   "id": "a9de6a74",
   "metadata": {},
   "source": [
    "### Cleansing the data"
   ]
  },
  {
   "cell_type": "code",
   "execution_count": null,
   "id": "54313d9a",
   "metadata": {},
   "outputs": [],
   "source": [
    "remchar = \"\\n\""
   ]
  },
  {
   "cell_type": "code",
   "execution_count": null,
   "id": "b11d708d",
   "metadata": {},
   "outputs": [],
   "source": [
    "df['CompanyNames'] = df['CompanyNames'].apply(lambda x : x.translate(str.maketrans('','',remchar)))"
   ]
  },
  {
   "cell_type": "code",
   "execution_count": null,
   "id": "e2dd8736",
   "metadata": {},
   "outputs": [],
   "source": [
    "df['JobTitles'] = df['JobTitles'].apply(lambda x : x.translate(str.maketrans('','',remchar)))"
   ]
  },
  {
   "cell_type": "code",
   "execution_count": null,
   "id": "acc90cbd",
   "metadata": {},
   "outputs": [],
   "source": [
    "df['CompanyLocation'] = df['CompanyLocation'].apply(lambda x : x.translate(str.maketrans('','',remchar)))"
   ]
  },
  {
   "cell_type": "code",
   "execution_count": null,
   "id": "7704c53c",
   "metadata": {},
   "outputs": [],
   "source": [
    "df['SeniorityLevel'] = df['SeniorityLevel'].apply(lambda x : x.translate(str.maketrans('','',remchar)))"
   ]
  },
  {
   "cell_type": "code",
   "execution_count": null,
   "id": "584846f2",
   "metadata": {},
   "outputs": [],
   "source": [
    "df['EmployementType'] = df['EmployementType'].apply(lambda x : x.translate(str.maketrans('','',remchar)))"
   ]
  },
  {
   "cell_type": "code",
   "execution_count": null,
   "id": "f9f60c0a",
   "metadata": {},
   "outputs": [],
   "source": [
    "df['JobFunctions'] = df['JobFunctions'].apply(lambda x : x.translate(str.maketrans('','',remchar)))"
   ]
  },
  {
   "cell_type": "code",
   "execution_count": null,
   "id": "7cad8ce4",
   "metadata": {},
   "outputs": [],
   "source": [
    "df['Industries'] = df['Industries'].apply(lambda x : x.translate(str.maketrans('','',remchar)))"
   ]
  },
  {
   "cell_type": "code",
   "execution_count": null,
   "id": "b44c6b8d",
   "metadata": {},
   "outputs": [],
   "source": [
    "df['RelativeTime'] = df['RelativeTime'].apply(lambda x : x.translate(str.maketrans('','',remchar)))"
   ]
  },
  {
   "cell_type": "code",
   "execution_count": null,
   "id": "99516823",
   "metadata": {},
   "outputs": [],
   "source": [
    "len(df.iat[0,0])"
   ]
  },
  {
   "cell_type": "code",
   "execution_count": null,
   "id": "f92ba3fb",
   "metadata": {},
   "outputs": [],
   "source": [
    "df['CompanyNames'] = df['CompanyNames'].apply(lambda x : x.strip())\n",
    "df['JobTitles'] = df['JobTitles'].apply(lambda x : x.strip())\n",
    "df['CompanyLocation'] = df['CompanyLocation'].apply(lambda x : x.strip())\n",
    "df['SeniorityLevel'] = df['SeniorityLevel'].apply(lambda x : x.strip())\n",
    "df['EmployementType'] = df['EmployementType'].apply(lambda x : x.strip())\n",
    "df['JobFunctions'] = df['JobFunctions'].apply(lambda x : x.strip())\n",
    "df['Industries'] = df['Industries'].apply(lambda x : x.strip())\n",
    "df['RelativeTime'] = df['RelativeTime'].apply(lambda x : x.strip())"
   ]
  },
  {
   "cell_type": "code",
   "execution_count": null,
   "id": "c829476e",
   "metadata": {
    "scrolled": true
   },
   "outputs": [],
   "source": [
    "df"
   ]
  },
  {
   "cell_type": "code",
   "execution_count": null,
   "id": "73b8018a",
   "metadata": {},
   "outputs": [],
   "source": [
    "df['RelativeTime'][0]"
   ]
  },
  {
   "cell_type": "markdown",
   "id": "251b0f11",
   "metadata": {},
   "source": [
    "## Save Data to CSV"
   ]
  },
  {
   "cell_type": "code",
   "execution_count": null,
   "id": "7f50f9c1",
   "metadata": {},
   "outputs": [],
   "source": [
    "df.to_csv('scrappedData.csv', mode='a', index=False, header=False) #df.to_csv('scrappedData.csv',index=False)"
   ]
  },
  {
   "cell_type": "markdown",
   "id": "478cf6e6",
   "metadata": {},
   "source": [
    "## Load Data from CSV"
   ]
  },
  {
   "cell_type": "code",
   "execution_count": null,
   "id": "72ad8381",
   "metadata": {},
   "outputs": [],
   "source": [
    "df=pd.read_csv(\"scrappedData.csv\")"
   ]
  },
  {
   "cell_type": "code",
   "execution_count": null,
   "id": "9356b164",
   "metadata": {},
   "outputs": [],
   "source": [
    "df"
   ]
  },
  {
   "cell_type": "markdown",
   "id": "789febf4",
   "metadata": {},
   "source": [
    "## Push Data to SQL"
   ]
  },
  {
   "cell_type": "code",
   "execution_count": null,
   "id": "1fd9a793",
   "metadata": {},
   "outputs": [],
   "source": [
    "import pyodbc"
   ]
  },
  {
   "cell_type": "code",
   "execution_count": null,
   "id": "caf42105",
   "metadata": {},
   "outputs": [],
   "source": [
    "server = 'DESKTOP-50GJUM7' \n",
    "database = 'ResumeProjects' "
   ]
  },
  {
   "cell_type": "markdown",
   "id": "6c2099b0",
   "metadata": {},
   "source": [
    "### Connect to SQLServer"
   ]
  },
  {
   "cell_type": "code",
   "execution_count": null,
   "id": "934e2973",
   "metadata": {},
   "outputs": [],
   "source": [
    "cnxn = pyodbc.connect(\"DRIVER={SQL Server};\"\n",
    "                     \"Server=\"+server+\";\"+\n",
    "                     \"Database=\"+database+\";\"+\n",
    "                      \"Trusted_Connection=yes;\")\n",
    "cursor = cnxn.cursor()"
   ]
  },
  {
   "cell_type": "markdown",
   "id": "2fe0d3c9",
   "metadata": {},
   "source": [
    "### Create a SQL table"
   ]
  },
  {
   "cell_type": "code",
   "execution_count": null,
   "id": "02db8778",
   "metadata": {},
   "outputs": [],
   "source": [
    "#createTableQuery = \"CREATE TABLE [LinkdInData].[JobDetails] ([CompanyNames] varchar(300),[JobTitles] varchar(500),[CompanyLocation] varchar(100),[LinkToJobPostings] varchar(800),[JobDescriptions] TEXT,[SeniorityLevel] varchar(100),[EmployementType] varchar(100),[JobFunctions] varchar(200),[Industries] varchar(200),[RelativeTime] varchar(100))\""
   ]
  },
  {
   "cell_type": "code",
   "execution_count": null,
   "id": "d9641d3b",
   "metadata": {},
   "outputs": [],
   "source": [
    "df.columns"
   ]
  },
  {
   "cell_type": "code",
   "execution_count": null,
   "id": "4564fadb",
   "metadata": {},
   "outputs": [],
   "source": [
    "#cursor.execute(createTableQuery)\n",
    "#cnxn.commit()\n",
    "cursor.execute(\"TRUNCATE TABLE LinkdInData.JobDetails\")\n",
    "cnxn.commit()"
   ]
  },
  {
   "cell_type": "code",
   "execution_count": null,
   "id": "781d9636",
   "metadata": {},
   "outputs": [],
   "source": [
    "for index, row in df.iterrows():\n",
    "     cursor.execute(\"INSERT INTO LinkdInData.JobDetails (CompanyNames,JobTitles,CompanyLocation,LinkToJobPostings,JobDescriptions,SeniorityLevel,EmployementType,JobFunctions,Industries,RelativeTime) values(?,?,?,?,?,?,?,?,?,?)\", row.CompanyNames, row.JobTitles, row.CompanyLocation, row.LinkToJobPostings, row.JobDescriptions, row.SeniorityLevel, row.EmployementType, row.JobFunctions, row.Industries,row.RelativeTime)"
   ]
  },
  {
   "cell_type": "code",
   "execution_count": null,
   "id": "5079f278",
   "metadata": {},
   "outputs": [],
   "source": [
    "cnxn.commit()"
   ]
  },
  {
   "cell_type": "code",
   "execution_count": null,
   "id": "f2641fce",
   "metadata": {},
   "outputs": [],
   "source": [
    "cursor.close()"
   ]
  }
 ],
 "metadata": {
  "kernelspec": {
   "display_name": "Python 3 (ipykernel)",
   "language": "python",
   "name": "python3"
  },
  "language_info": {
   "codemirror_mode": {
    "name": "ipython",
    "version": 3
   },
   "file_extension": ".py",
   "mimetype": "text/x-python",
   "name": "python",
   "nbconvert_exporter": "python",
   "pygments_lexer": "ipython3",
   "version": "3.10.9"
  }
 },
 "nbformat": 4,
 "nbformat_minor": 5
}
